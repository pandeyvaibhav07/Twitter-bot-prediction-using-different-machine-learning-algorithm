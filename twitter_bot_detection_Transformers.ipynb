{
  "cells": [
    {
      "cell_type": "code",
      "execution_count": null,
      "metadata": {
        "id": "ZOFQp-Te-BnX",
        "outputId": "ce4b0d12-126d-420d-de30-9e1b53c9f038"
      },
      "outputs": [
        {
          "name": "stderr",
          "output_type": "stream",
          "text": [
            "To use data.metrics please install scikit-learn. See https://scikit-learn.org/stable/index.html\n"
          ]
        }
      ],
      "source": [
        "import glob\n",
        "import logging\n",
        "import os\n",
        "import random\n",
        "import json\n",
        "\n",
        "import numpy as np\n",
        "import torch\n",
        "from torch.utils.data import (DataLoader, RandomSampler, SequentialSampler,\n",
        "                              TensorDataset)\n",
        "import random\n",
        "from keras.preprocessing.sequence import pad_sequences\n",
        "from torch.utils.data.distributed import DistributedSampler\n",
        "from tqdm import tqdm_notebook, trange\n",
        "\n",
        "from transformers import (WEIGHTS_NAME, BertConfig, BertForSequenceClassification, BertTokenizer,\n",
        "                                  XLMConfig, XLMForSequenceClassification, XLMTokenizer, \n",
        "                                  XLNetConfig, XLNetForSequenceClassification, XLNetTokenizer,\n",
        "                                  RobertaConfig, RobertaForSequenceClassification, RobertaTokenizer)\n",
        "from transformers import GPT2DoubleHeadsModel, GPT2Tokenizer, GPT2Config\n",
        "from transformers import AdamW, WarmupLinearSchedule\n",
        "\n",
        "logging.basicConfig(level=logging.INFO)\n",
        "logger = logging.getLogger(__name__)"
      ]
    },
    {
      "cell_type": "code",
      "execution_count": null,
      "metadata": {
        "colab": {
          "base_uri": "https://localhost:8080/",
          "height": 34
        },
        "id": "CL2SqxXN-Bna",
        "outputId": "53e257f3-8e23-4932-c4e7-ca9eecd62eb8"
      },
      "outputs": [
        {
          "data": {
            "text/plain": [
              "'GeForce GTX 1080 Ti'"
            ]
          },
          "execution_count": 2,
          "metadata": {},
          "output_type": "execute_result"
        }
      ],
      "source": [
        "device = torch.device(\"cuda\" if torch.cuda.is_available() else \"cpu\")\n",
        "n_gpu = torch.cuda.device_count()\n",
        "torch.cuda.get_device_name(0)"
      ]
    },
    {
      "cell_type": "markdown",
      "metadata": {
        "id": "CdMEELJNozL8"
      },
      "source": [
        "## Load the dataset\n",
        "\n",
        "Please find the required code to generate the dataset in dataset generation. Dataset generation can be a little bit time consuming, if you want to get the datasets, please send us an email [ANONYMIZED]\n",
        "\n",
        "Once you have the dataset you should change the path to the actual directory."
      ]
    },
    {
      "cell_type": "code",
      "execution_count": null,
      "metadata": {
        "colab": {
          "base_uri": "https://localhost:8080/",
          "height": 419
        },
        "id": "gYqAtP5M-Bnc",
        "outputId": "4edbf09f-83ac-47bb-8efe-be92ef07d2a3"
      },
      "outputs": [
        {
          "name": "stdout",
          "output_type": "stream",
          "text": [
            "44288\n",
            "220506\n"
          ]
        },
        {
          "data": {
            "text/html": [
              "<div>\n",
              "<style scoped>\n",
              "    .dataframe tbody tr th:only-of-type {\n",
              "        vertical-align: middle;\n",
              "    }\n",
              "\n",
              "    .dataframe tbody tr th {\n",
              "        vertical-align: top;\n",
              "    }\n",
              "\n",
              "    .dataframe thead th {\n",
              "        text-align: right;\n",
              "    }\n",
              "</style>\n",
              "<table border=\"1\" class=\"dataframe\">\n",
              "  <thead>\n",
              "    <tr style=\"text-align: right;\">\n",
              "      <th></th>\n",
              "      <th>index</th>\n",
              "      <th>label</th>\n",
              "      <th>mark</th>\n",
              "      <th>tweet</th>\n",
              "    </tr>\n",
              "  </thead>\n",
              "  <tbody>\n",
              "    <tr>\n",
              "      <th>0</th>\n",
              "      <td>0</td>\n",
              "      <td>1</td>\n",
              "      <td>a</td>\n",
              "      <td>25 Non-Profit WordPress Themes for Charitable ...</td>\n",
              "    </tr>\n",
              "    <tr>\n",
              "      <th>1</th>\n",
              "      <td>1</td>\n",
              "      <td>0</td>\n",
              "      <td>a</td>\n",
              "      <td>Lunch news: Eat's chilli chicken rice pot thin...</td>\n",
              "    </tr>\n",
              "    <tr>\n",
              "      <th>2</th>\n",
              "      <td>2</td>\n",
              "      <td>0</td>\n",
              "      <td>a</td>\n",
              "      <td>when you wake up thinking its friday 🙄 https:/...</td>\n",
              "    </tr>\n",
              "    <tr>\n",
              "      <th>3</th>\n",
              "      <td>3</td>\n",
              "      <td>0</td>\n",
              "      <td>a</td>\n",
              "      <td>@Krimlin_GG Yeah us too but if you compare us ...</td>\n",
              "    </tr>\n",
              "    <tr>\n",
              "      <th>4</th>\n",
              "      <td>4</td>\n",
              "      <td>0</td>\n",
              "      <td>a</td>\n",
              "      <td>@Raghad3 @AmalNadhreen @prkhalid_center Go for...</td>\n",
              "    </tr>\n",
              "    <tr>\n",
              "      <th>...</th>\n",
              "      <td>...</td>\n",
              "      <td>...</td>\n",
              "      <td>...</td>\n",
              "      <td>...</td>\n",
              "    </tr>\n",
              "    <tr>\n",
              "      <th>499995</th>\n",
              "      <td>499995</td>\n",
              "      <td>0</td>\n",
              "      <td>a</td>\n",
              "      <td>@enemybieber ok ok now we reaching reaching</td>\n",
              "    </tr>\n",
              "    <tr>\n",
              "      <th>499996</th>\n",
              "      <td>499996</td>\n",
              "      <td>1</td>\n",
              "      <td>a</td>\n",
              "      <td>Philadelphia NAACP Takes Issue With DA's Rulin...</td>\n",
              "    </tr>\n",
              "    <tr>\n",
              "      <th>499997</th>\n",
              "      <td>499997</td>\n",
              "      <td>1</td>\n",
              "      <td>a</td>\n",
              "      <td>Federal Conservative leader Andrew Scheer spea...</td>\n",
              "    </tr>\n",
              "    <tr>\n",
              "      <th>499998</th>\n",
              "      <td>499998</td>\n",
              "      <td>0</td>\n",
              "      <td>a</td>\n",
              "      <td>@nithinrrai Noted, Have informed sector traffi...</td>\n",
              "    </tr>\n",
              "    <tr>\n",
              "      <th>499999</th>\n",
              "      <td>499999</td>\n",
              "      <td>0</td>\n",
              "      <td>a</td>\n",
              "      <td>What a beautiful day</td>\n",
              "    </tr>\n",
              "  </tbody>\n",
              "</table>\n",
              "<p>500000 rows × 4 columns</p>\n",
              "</div>"
            ],
            "text/plain": [
              "         index  label mark                                              tweet\n",
              "0            0      1    a  25 Non-Profit WordPress Themes for Charitable ...\n",
              "1            1      0    a  Lunch news: Eat's chilli chicken rice pot thin...\n",
              "2            2      0    a  when you wake up thinking its friday 🙄 https:/...\n",
              "3            3      0    a  @Krimlin_GG Yeah us too but if you compare us ...\n",
              "4            4      0    a  @Raghad3 @AmalNadhreen @prkhalid_center Go for...\n",
              "...        ...    ...  ...                                                ...\n",
              "499995  499995      0    a        @enemybieber ok ok now we reaching reaching\n",
              "499996  499996      1    a  Philadelphia NAACP Takes Issue With DA's Rulin...\n",
              "499997  499997      1    a  Federal Conservative leader Andrew Scheer spea...\n",
              "499998  499998      0    a  @nithinrrai Noted, Have informed sector traffi...\n",
              "499999  499999      0    a                               What a beautiful day\n",
              "\n",
              "[500000 rows x 4 columns]"
            ]
          },
          "execution_count": 5,
          "metadata": {},
          "output_type": "execute_result"
        }
      ],
      "source": [
        "import pandas as pd\n",
        "\n",
        "directory = \"../data/bot_detection/\"\n",
        "train = pd.read_csv(directory + \"train.csv\", header=None)\n",
        "test = pd.read_csv(directory + \"test.csv\", header=None)\n",
        "\n",
        "train = pd.DataFrame({\n",
        "    'id':range(len(train)),\n",
        "    'label':train[0],\n",
        "    'mark':['a']*train.shape[0],\n",
        "    'text': train[1].replace(r'\\n', ' ', regex=True)\n",
        "})\n",
        "\n",
        "\n",
        "test = pd.DataFrame({\n",
        "    'id':range(len(test)),\n",
        "    'label':test[0],\n",
        "    'mark':['a']*test.shape[0],\n",
        "    'text': test[1].replace(r'\\n', ' ', regex=True)\n",
        "})\n",
        "\n",
        "#train = train[:10000]\n",
        "#test = test[:1000]\n",
        "\n",
        "#train.to_csv(directory + 'data/' 'train.tsv', sep='\\t', index=False, header=False)\n",
        "#test.to_csv(directory + 'data/' 'test.tsv', sep='\\t', index=False, header=False)\n",
        "\n",
        "print(np.sum(test[\"label\"]))\n",
        "print(np.sum(train[\"label\"]))\n",
        "\n",
        "#directory = \"./09_BERT/Large_Dataset/\"\n",
        "#train = pd.read_csv(directory + \"train.tsv\", header=None, delimiter = '\\t')\n",
        "#test = pd.read_csv(directory + \"dev.tsv\", header=None, delimiter = '\\t')\n",
        "\n",
        "train.columns = [\"index\", \"label\", \"mark\", \"tweet\"]\n",
        "test.columns =  [\"index\", \"label\", \"mark\", \"tweet\"]\n",
        "\n",
        "train"
      ]
    },
    {
      "cell_type": "markdown",
      "metadata": {
        "id": "JLLzHI-VozMG"
      },
      "source": [
        "## Preprocessing"
      ]
    },
    {
      "cell_type": "code",
      "execution_count": null,
      "metadata": {
        "id": "ZENad9jI-Bne"
      },
      "outputs": [],
      "source": [
        "model_name = \"gpt2\"\n",
        "\n",
        "if model_name == \"BERT\":\n",
        "    train_sentences = train.tweet.values\n",
        "    train_sentences = [\"[CLS] \" + sentence + \" [SEP]\" for sentence in train_sentences]\n",
        "    train_labels = train.label.values\n",
        "\n",
        "    test_sentences = test.tweet.values\n",
        "    test_sentences = [\"[CLS] \" + sentence + \" [SEP]\" for sentence in test_sentences]\n",
        "    test_labels = test.label.values\n",
        "\n",
        "elif model_name == \"gpt2\":\n",
        "    train_sentences = train.tweet.values\n",
        "    train_labels = train.label.values\n",
        "    test_sentences = test.tweet.values\n",
        "    test_labels = test.label.values    "
      ]
    },
    {
      "cell_type": "code",
      "execution_count": null,
      "metadata": {
        "colab": {
          "base_uri": "https://localhost:8080/",
          "height": 173
        },
        "id": "2XC2HfOH-Bnf",
        "outputId": "2cb5f7eb-b06d-418f-d3ca-6315a7c3a885"
      },
      "outputs": [
        {
          "name": "stderr",
          "output_type": "stream",
          "text": [
            "INFO:transformers.tokenization_utils:loading file https://s3.amazonaws.com/models.huggingface.co/bert/gpt2-vocab.json from cache at /home/test/.cache/torch/transformers/f2808208f9bec2320371a9f5f891c184ae0b674ef866b79c58177067d15732dd.1512018be4ba4e8726e41b9145129dc30651ea4fec86aa61f4b9f40bf94eac71\n",
            "INFO:transformers.tokenization_utils:loading file https://s3.amazonaws.com/models.huggingface.co/bert/gpt2-merges.txt from cache at /home/test/.cache/torch/transformers/d629f792e430b3c76a1291bb2766b0a047e36fae0588f9dbc1ae51decdff691b.70bec105b4158ed9a1747fea67a43f5dee97855c64d62b6ec3742f4cfdb5feda\n"
          ]
        },
        {
          "name": "stdout",
          "output_type": "stream",
          "text": [
            "Tokenize the first sentence:\n",
            "[['25', 'ĠNon', '-', 'Pro', 'fit', 'ĠWordPress', 'ĠThe', 'mes', 'Ġfor', 'ĠChar', 'itable', 'ĠOrganizations', 'Ġhttps', '://', 't', '.', 'co', '/', '4', 'y', 'H', 'gh', 'l', '3', 'll', 'R', 'Ġ#', 'creat', 'ive', 'Ġ#', 'art'], ['L', 'unch', 'Ġnews', ':', 'ĠEat', \"'s\", 'Ġchill', 'i', 'Ġchicken', 'Ġrice', 'Ġpot', 'Ġthing', 'Ġgets', 'Ġa', 'Ġ14', 'Ġout', 'Ġof', 'Ġ10', 'Ġfrom', 'Ġme', '.'], ['when', 'Ġyou', 'Ġwake', 'Ġup', 'Ġthinking', 'Ġits', 'Ġfr', 'iday', 'ĠðŁ', 'Ļ', 'Ħ', 'Ġhttps', '://', 't', '.', 'co', '/', 'b', 'K', 'Im', 'Y', 'ha', 'D', 'Ar']]\n"
          ]
        }
      ],
      "source": [
        "max_length = 128\n",
        "if model_name == \"BERT\":\n",
        "    tokenizer = BertTokenizer.from_pretrained('bert-base-uncased', do_lower_case=True)\n",
        "elif model_name == \"gpt2\":\n",
        "    tokenizer = GPT2Tokenizer.from_pretrained('gpt2', do_lower_case=True)\n",
        "\n",
        "train_tokenized_tweets = [tokenizer.tokenize(sent) for sent in train_sentences]\n",
        "test_tokenized_tweets = [tokenizer.tokenize(sent) for sent in test_sentences]\n",
        "\n",
        "print (\"Tokenize the first sentence:\")\n",
        "print (train_tokenized_tweets[:3])"
      ]
    },
    {
      "cell_type": "code",
      "execution_count": null,
      "metadata": {
        "id": "Bkh0vCH8-Bnh",
        "outputId": "5ea4d740-75c7-4525-8d50-fef2148652cd"
      },
      "outputs": [
        {
          "name": "stdout",
          "output_type": "stream",
          "text": [
            "[[1495, 8504, 12, 2964, 11147, 22477, 383, 6880, 329, 3178, 4674, 41846, 3740, 1378, 83, 13, 1073, 14, 19, 88, 39, 456, 75, 18, 297, 49, 1303, 20123, 425, 1303, 433], [43, 3316, 1705, 25, 27574, 338, 20493, 72, 9015, 11464, 1787, 1517, 3011, 257, 1478, 503, 286, 838, 422, 502, 13], [12518, 345, 7765, 510, 3612, 663, 1216, 2567, 12520, 247, 226, 3740, 1378, 83, 13, 1073, 14, 65, 42, 3546, 56, 3099, 35, 3163]]\n"
          ]
        }
      ],
      "source": [
        "MAX_LEN = 128\n",
        "train_input_ids = [tokenizer.convert_tokens_to_ids(x) for x in train_tokenized_tweets]\n",
        "test_input_ids = [tokenizer.convert_tokens_to_ids(x) for x in test_tokenized_tweets]\n",
        "print(train_input_ids[:3])"
      ]
    },
    {
      "cell_type": "code",
      "execution_count": null,
      "metadata": {
        "id": "o0bTrySz-Bni"
      },
      "outputs": [],
      "source": [
        "train_input_ids = pad_sequences(train_input_ids, maxlen=MAX_LEN, dtype=\"long\", truncating=\"post\", padding=\"post\")\n",
        "test_input_ids = pad_sequences(test_input_ids, maxlen=MAX_LEN, dtype=\"long\", truncating=\"post\", padding=\"post\")"
      ]
    },
    {
      "cell_type": "code",
      "execution_count": null,
      "metadata": {
        "id": "eoXkZM4V-Bnk"
      },
      "outputs": [],
      "source": [
        "train_attention_masks = []\n",
        "test_attention_masks = []\n",
        "\n",
        "for seq in train_input_ids:\n",
        "    seq_mask = [float(i>0) for i in seq]\n",
        "    train_attention_masks.append(seq_mask)\n",
        "    \n",
        "for seq in test_input_ids:\n",
        "    seq_mask = [float(i>0) for i in seq]\n",
        "    test_attention_masks.append(seq_mask)"
      ]
    },
    {
      "cell_type": "code",
      "execution_count": null,
      "metadata": {
        "id": "gNDnO25D-Bnl"
      },
      "outputs": [],
      "source": [
        "train_inputs = torch.tensor(train_input_ids)\n",
        "train_masks = torch.tensor(train_attention_masks)\n",
        "train_labels = torch.tensor(train_labels)\n",
        "\n",
        "test_inputs = torch.tensor(test_input_ids)\n",
        "test_masks = torch.tensor(test_attention_masks)\n",
        "test_labels = torch.tensor(test_labels)"
      ]
    },
    {
      "cell_type": "markdown",
      "metadata": {
        "id": "P5SQLTKDozMT"
      },
      "source": [
        "#### Create the generators"
      ]
    },
    {
      "cell_type": "code",
      "execution_count": null,
      "metadata": {
        "id": "Rwy_oggc-Bnn"
      },
      "outputs": [],
      "source": [
        "batch_size = 8\n",
        "train_data = TensorDataset(train_inputs, train_masks, train_labels)\n",
        "train_sampler = RandomSampler(train_data)\n",
        "train_dataloader = DataLoader(train_data, sampler=train_sampler, batch_size=batch_size)\n",
        "\n",
        "test_data = TensorDataset(test_inputs, test_masks, test_labels)\n",
        "test_sampler = RandomSampler(test_data)\n",
        "test_dataloader = DataLoader(test_data, sampler=test_sampler, batch_size=batch_size)"
      ]
    },
    {
      "cell_type": "markdown",
      "metadata": {
        "id": "JfCnUdngozMV"
      },
      "source": [
        "#### Model and parameters"
      ]
    },
    {
      "cell_type": "code",
      "execution_count": null,
      "metadata": {
        "colab": {
          "base_uri": "https://localhost:8080/",
          "height": 1000
        },
        "id": "XWFZz0FX-Bno",
        "outputId": "037dcfdf-8d85-48f1-8137-588c898fa5aa"
      },
      "outputs": [
        {
          "name": "stderr",
          "output_type": "stream",
          "text": [
            "INFO:transformers.configuration_utils:loading configuration file https://s3.amazonaws.com/models.huggingface.co/bert/gpt2-config.json from cache at /home/test/.cache/torch/transformers/4be02c5697d91738003fb1685c9872f284166aa32e061576bbe6aaeb95649fcf.db13c9bc9c7bdd738ec89e069621d88e05dc670366092d809a9cbcac6798e24e\n",
            "INFO:transformers.configuration_utils:Model config {\n",
            "  \"activation_function\": \"gelu_new\",\n",
            "  \"architectures\": [\n",
            "    \"GPT2LMHeadModel\"\n",
            "  ],\n",
            "  \"attn_pdrop\": 0.1,\n",
            "  \"bos_token_id\": 50256,\n",
            "  \"embd_pdrop\": 0.1,\n",
            "  \"eos_token_id\": 50256,\n",
            "  \"finetuning_task\": null,\n",
            "  \"initializer_range\": 0.02,\n",
            "  \"layer_norm_epsilon\": 1e-05,\n",
            "  \"model_type\": \"gpt2\",\n",
            "  \"n_ctx\": 1024,\n",
            "  \"n_embd\": 768,\n",
            "  \"n_head\": 12,\n",
            "  \"n_layer\": 12,\n",
            "  \"n_positions\": 1024,\n",
            "  \"num_labels\": 2,\n",
            "  \"output_attentions\": false,\n",
            "  \"output_hidden_states\": false,\n",
            "  \"output_past\": true,\n",
            "  \"pruned_heads\": {},\n",
            "  \"resid_pdrop\": 0.1,\n",
            "  \"summary_activation\": null,\n",
            "  \"summary_first_dropout\": 0.1,\n",
            "  \"summary_proj_to_labels\": true,\n",
            "  \"summary_type\": \"cls_index\",\n",
            "  \"summary_use_proj\": true,\n",
            "  \"task_specific_params\": {\n",
            "    \"text-generation\": {\n",
            "      \"do_sample\": true,\n",
            "      \"max_length\": 50\n",
            "    }\n",
            "  },\n",
            "  \"torchscript\": false,\n",
            "  \"use_bfloat16\": false,\n",
            "  \"vocab_size\": 50257\n",
            "}\n",
            "\n",
            "INFO:transformers.modeling_utils:loading weights file https://s3.amazonaws.com/models.huggingface.co/bert/gpt2-pytorch_model.bin from cache at /home/test/.cache/torch/transformers/4295d67f022061768f4adc386234dbdb781c814c39662dd1662221c309962c55.778cf36f5c4e5d94c8cd9cefcf2a580c8643570eb327f0d4a1f007fab2acbdf1\n"
          ]
        },
        {
          "data": {
            "text/plain": [
              "GPT2DoubleHeadsModel(\n",
              "  (transformer): GPT2Model(\n",
              "    (wte): Embedding(50257, 768)\n",
              "    (wpe): Embedding(1024, 768)\n",
              "    (drop): Dropout(p=0.1, inplace=False)\n",
              "    (h): ModuleList(\n",
              "      (0): Block(\n",
              "        (ln_1): LayerNorm((768,), eps=1e-05, elementwise_affine=True)\n",
              "        (attn): Attention(\n",
              "          (c_attn): Conv1D()\n",
              "          (c_proj): Conv1D()\n",
              "          (attn_dropout): Dropout(p=0.1, inplace=False)\n",
              "          (resid_dropout): Dropout(p=0.1, inplace=False)\n",
              "        )\n",
              "        (ln_2): LayerNorm((768,), eps=1e-05, elementwise_affine=True)\n",
              "        (mlp): MLP(\n",
              "          (c_fc): Conv1D()\n",
              "          (c_proj): Conv1D()\n",
              "          (dropout): Dropout(p=0.1, inplace=False)\n",
              "        )\n",
              "      )\n",
              "      (1): Block(\n",
              "        (ln_1): LayerNorm((768,), eps=1e-05, elementwise_affine=True)\n",
              "        (attn): Attention(\n",
              "          (c_attn): Conv1D()\n",
              "          (c_proj): Conv1D()\n",
              "          (attn_dropout): Dropout(p=0.1, inplace=False)\n",
              "          (resid_dropout): Dropout(p=0.1, inplace=False)\n",
              "        )\n",
              "        (ln_2): LayerNorm((768,), eps=1e-05, elementwise_affine=True)\n",
              "        (mlp): MLP(\n",
              "          (c_fc): Conv1D()\n",
              "          (c_proj): Conv1D()\n",
              "          (dropout): Dropout(p=0.1, inplace=False)\n",
              "        )\n",
              "      )\n",
              "      (2): Block(\n",
              "        (ln_1): LayerNorm((768,), eps=1e-05, elementwise_affine=True)\n",
              "        (attn): Attention(\n",
              "          (c_attn): Conv1D()\n",
              "          (c_proj): Conv1D()\n",
              "          (attn_dropout): Dropout(p=0.1, inplace=False)\n",
              "          (resid_dropout): Dropout(p=0.1, inplace=False)\n",
              "        )\n",
              "        (ln_2): LayerNorm((768,), eps=1e-05, elementwise_affine=True)\n",
              "        (mlp): MLP(\n",
              "          (c_fc): Conv1D()\n",
              "          (c_proj): Conv1D()\n",
              "          (dropout): Dropout(p=0.1, inplace=False)\n",
              "        )\n",
              "      )\n",
              "      (3): Block(\n",
              "        (ln_1): LayerNorm((768,), eps=1e-05, elementwise_affine=True)\n",
              "        (attn): Attention(\n",
              "          (c_attn): Conv1D()\n",
              "          (c_proj): Conv1D()\n",
              "          (attn_dropout): Dropout(p=0.1, inplace=False)\n",
              "          (resid_dropout): Dropout(p=0.1, inplace=False)\n",
              "        )\n",
              "        (ln_2): LayerNorm((768,), eps=1e-05, elementwise_affine=True)\n",
              "        (mlp): MLP(\n",
              "          (c_fc): Conv1D()\n",
              "          (c_proj): Conv1D()\n",
              "          (dropout): Dropout(p=0.1, inplace=False)\n",
              "        )\n",
              "      )\n",
              "      (4): Block(\n",
              "        (ln_1): LayerNorm((768,), eps=1e-05, elementwise_affine=True)\n",
              "        (attn): Attention(\n",
              "          (c_attn): Conv1D()\n",
              "          (c_proj): Conv1D()\n",
              "          (attn_dropout): Dropout(p=0.1, inplace=False)\n",
              "          (resid_dropout): Dropout(p=0.1, inplace=False)\n",
              "        )\n",
              "        (ln_2): LayerNorm((768,), eps=1e-05, elementwise_affine=True)\n",
              "        (mlp): MLP(\n",
              "          (c_fc): Conv1D()\n",
              "          (c_proj): Conv1D()\n",
              "          (dropout): Dropout(p=0.1, inplace=False)\n",
              "        )\n",
              "      )\n",
              "      (5): Block(\n",
              "        (ln_1): LayerNorm((768,), eps=1e-05, elementwise_affine=True)\n",
              "        (attn): Attention(\n",
              "          (c_attn): Conv1D()\n",
              "          (c_proj): Conv1D()\n",
              "          (attn_dropout): Dropout(p=0.1, inplace=False)\n",
              "          (resid_dropout): Dropout(p=0.1, inplace=False)\n",
              "        )\n",
              "        (ln_2): LayerNorm((768,), eps=1e-05, elementwise_affine=True)\n",
              "        (mlp): MLP(\n",
              "          (c_fc): Conv1D()\n",
              "          (c_proj): Conv1D()\n",
              "          (dropout): Dropout(p=0.1, inplace=False)\n",
              "        )\n",
              "      )\n",
              "      (6): Block(\n",
              "        (ln_1): LayerNorm((768,), eps=1e-05, elementwise_affine=True)\n",
              "        (attn): Attention(\n",
              "          (c_attn): Conv1D()\n",
              "          (c_proj): Conv1D()\n",
              "          (attn_dropout): Dropout(p=0.1, inplace=False)\n",
              "          (resid_dropout): Dropout(p=0.1, inplace=False)\n",
              "        )\n",
              "        (ln_2): LayerNorm((768,), eps=1e-05, elementwise_affine=True)\n",
              "        (mlp): MLP(\n",
              "          (c_fc): Conv1D()\n",
              "          (c_proj): Conv1D()\n",
              "          (dropout): Dropout(p=0.1, inplace=False)\n",
              "        )\n",
              "      )\n",
              "      (7): Block(\n",
              "        (ln_1): LayerNorm((768,), eps=1e-05, elementwise_affine=True)\n",
              "        (attn): Attention(\n",
              "          (c_attn): Conv1D()\n",
              "          (c_proj): Conv1D()\n",
              "          (attn_dropout): Dropout(p=0.1, inplace=False)\n",
              "          (resid_dropout): Dropout(p=0.1, inplace=False)\n",
              "        )\n",
              "        (ln_2): LayerNorm((768,), eps=1e-05, elementwise_affine=True)\n",
              "        (mlp): MLP(\n",
              "          (c_fc): Conv1D()\n",
              "          (c_proj): Conv1D()\n",
              "          (dropout): Dropout(p=0.1, inplace=False)\n",
              "        )\n",
              "      )\n",
              "      (8): Block(\n",
              "        (ln_1): LayerNorm((768,), eps=1e-05, elementwise_affine=True)\n",
              "        (attn): Attention(\n",
              "          (c_attn): Conv1D()\n",
              "          (c_proj): Conv1D()\n",
              "          (attn_dropout): Dropout(p=0.1, inplace=False)\n",
              "          (resid_dropout): Dropout(p=0.1, inplace=False)\n",
              "        )\n",
              "        (ln_2): LayerNorm((768,), eps=1e-05, elementwise_affine=True)\n",
              "        (mlp): MLP(\n",
              "          (c_fc): Conv1D()\n",
              "          (c_proj): Conv1D()\n",
              "          (dropout): Dropout(p=0.1, inplace=False)\n",
              "        )\n",
              "      )\n",
              "      (9): Block(\n",
              "        (ln_1): LayerNorm((768,), eps=1e-05, elementwise_affine=True)\n",
              "        (attn): Attention(\n",
              "          (c_attn): Conv1D()\n",
              "          (c_proj): Conv1D()\n",
              "          (attn_dropout): Dropout(p=0.1, inplace=False)\n",
              "          (resid_dropout): Dropout(p=0.1, inplace=False)\n",
              "        )\n",
              "        (ln_2): LayerNorm((768,), eps=1e-05, elementwise_affine=True)\n",
              "        (mlp): MLP(\n",
              "          (c_fc): Conv1D()\n",
              "          (c_proj): Conv1D()\n",
              "          (dropout): Dropout(p=0.1, inplace=False)\n",
              "        )\n",
              "      )\n",
              "      (10): Block(\n",
              "        (ln_1): LayerNorm((768,), eps=1e-05, elementwise_affine=True)\n",
              "        (attn): Attention(\n",
              "          (c_attn): Conv1D()\n",
              "          (c_proj): Conv1D()\n",
              "          (attn_dropout): Dropout(p=0.1, inplace=False)\n",
              "          (resid_dropout): Dropout(p=0.1, inplace=False)\n",
              "        )\n",
              "        (ln_2): LayerNorm((768,), eps=1e-05, elementwise_affine=True)\n",
              "        (mlp): MLP(\n",
              "          (c_fc): Conv1D()\n",
              "          (c_proj): Conv1D()\n",
              "          (dropout): Dropout(p=0.1, inplace=False)\n",
              "        )\n",
              "      )\n",
              "      (11): Block(\n",
              "        (ln_1): LayerNorm((768,), eps=1e-05, elementwise_affine=True)\n",
              "        (attn): Attention(\n",
              "          (c_attn): Conv1D()\n",
              "          (c_proj): Conv1D()\n",
              "          (attn_dropout): Dropout(p=0.1, inplace=False)\n",
              "          (resid_dropout): Dropout(p=0.1, inplace=False)\n",
              "        )\n",
              "        (ln_2): LayerNorm((768,), eps=1e-05, elementwise_affine=True)\n",
              "        (mlp): MLP(\n",
              "          (c_fc): Conv1D()\n",
              "          (c_proj): Conv1D()\n",
              "          (dropout): Dropout(p=0.1, inplace=False)\n",
              "        )\n",
              "      )\n",
              "    )\n",
              "    (ln_f): LayerNorm((768,), eps=1e-05, elementwise_affine=True)\n",
              "  )\n",
              "  (lm_head): Linear(in_features=768, out_features=50257, bias=False)\n",
              "  (multiple_choice_head): SequenceSummary(\n",
              "    (summary): Linear(in_features=768, out_features=2, bias=True)\n",
              "    (activation): Identity()\n",
              "    (first_dropout): Dropout(p=0.1, inplace=False)\n",
              "    (last_dropout): Identity()\n",
              "  )\n",
              ")"
            ]
          },
          "execution_count": 28,
          "metadata": {},
          "output_type": "execute_result"
        }
      ],
      "source": [
        "if model_name == \"BERT\":\n",
        "    model = BertForSequenceClassification.from_pretrained(\"bert-base-uncased\", num_labels=2)\n",
        "elif model_name == \"gpt2\":\n",
        "    model = GPT2DoubleHeadsModel.from_pretrained(\"gpt2\", num_labels = 2)\n",
        "model.cuda()"
      ]
    },
    {
      "cell_type": "code",
      "execution_count": null,
      "metadata": {
        "id": "MTLzHL2v-Bnq"
      },
      "outputs": [],
      "source": [
        "param_optimizer = list(model.named_parameters())\n",
        "no_decay = ['bias', 'gamma', 'beta']\n",
        "optimizer_grouped_parameters = [\n",
        "    {'params': [p for n, p in param_optimizer if not any(nd in n for nd in no_decay)],\n",
        "     'weight_decay_rate': 0.01},\n",
        "    {'params': [p for n, p in param_optimizer if any(nd in n for nd in no_decay)],\n",
        "     'weight_decay_rate': 0.0}\n",
        "]\n",
        "\n",
        "optimizer = AdamW(optimizer_grouped_parameters,\n",
        "                     lr=2e-5,)"
      ]
    },
    {
      "cell_type": "markdown",
      "metadata": {
        "id": "-rbGK2VFozMY"
      },
      "source": [
        "## Fine-Tuning\n",
        "\n",
        "The fine tuning of a model with the 500000 examples in the training set takes around 5 hours for 2 epochs."
      ]
    },
    {
      "cell_type": "code",
      "execution_count": null,
      "metadata": {
        "id": "2oIsRUdH-Bns"
      },
      "outputs": [],
      "source": [
        "# Function to calculate the accuracy of our predictions vs labels\n",
        "def flat_accuracy(preds, labels):\n",
        "    pred_flat = np.argmax(preds, axis=1).flatten()\n",
        "    labels_flat = labels.flatten()\n",
        "    return np.sum(pred_flat == labels_flat) / len(labels_flat)"
      ]
    },
    {
      "cell_type": "code",
      "execution_count": null,
      "metadata": {
        "colab": {
          "base_uri": "https://localhost:8080/",
          "height": 231
        },
        "id": "Yyid0s0f-Bnt",
        "outputId": "c71ba02f-facb-4b97-fdc9-d91b2e6be0a7"
      },
      "outputs": [
        {
          "name": "stderr",
          "output_type": "stream",
          "text": [
            "Epoch:   0%|          | 0/2 [00:00<?, ?it/s]"
          ]
        },
        {
          "name": "stdout",
          "output_type": "stream",
          "text": [
            "Train loss: 0.44199753796195984\n"
          ]
        },
        {
          "name": "stderr",
          "output_type": "stream",
          "text": [
            "<ipython-input-30-bc014d519fd9>:5: DeprecationWarning: elementwise comparison failed; this will raise an error in the future.\n",
            "  return np.sum(pred_flat == labels_flat) / len(labels_flat)\n"
          ]
        }
      ],
      "source": [
        "# Store our loss and accuracy for plotting\n",
        "train_loss_set = []\n",
        "\n",
        "# Number of training epochs (authors recommend between 2 and 4)\n",
        "epochs = 2\n",
        "\n",
        "# trange is a tqdm wrapper around the normal python range\n",
        "for _ in trange(epochs, desc=\"Epoch\"):\n",
        "  \n",
        "  \n",
        "  # Training\n",
        "  \n",
        "  # Set our model to training mode (as opposed to evaluation mode)\n",
        "  model.train()\n",
        "  \n",
        "  # Tracking variables\n",
        "  tr_loss = 0\n",
        "  nb_tr_examples, nb_tr_steps = 0, 0\n",
        "  \n",
        "  # Train the data for one epoch\n",
        "  for step, batch in enumerate(train_dataloader):\n",
        "    # Add batch to GPU\n",
        "    batch = tuple(t.to(device) for t in batch)\n",
        "    # Unpack the inputs from our dataloader\n",
        "    b_input_ids, b_input_mask, b_labels = batch\n",
        "    # Clear out the gradients (by default they accumulate)\n",
        "    optimizer.zero_grad()\n",
        "    # Forward pass\n",
        "    if model_name == \"BERT\":\n",
        "      loss = model(b_input_ids, token_type_ids=None, attention_mask=b_input_mask, labels=b_labels)\n",
        "    else:\n",
        "      loss = model(b_input_ids, token_type_ids=None, attention_mask=b_input_mask, mc_labels=b_labels)\n",
        "    train_loss_set.append(loss[0].item())    \n",
        "    # Backward pass\n",
        "    loss[0].backward()\n",
        "    # Update parameters and take a step using the computed gradient\n",
        "    optimizer.step()\n",
        "    \n",
        "    \n",
        "    # Update tracking variables\n",
        "    tr_loss += loss[0].item()\n",
        "    nb_tr_examples += b_input_ids.size(0)\n",
        "    nb_tr_steps += 1\n",
        "\n",
        "  print(\"Train loss: {}\".format(tr_loss/nb_tr_steps))\n",
        "    \n",
        "    \n",
        "  # Validation\n",
        "\n",
        "  # Put model in evaluation mode to evaluate loss on the validation set\n",
        "  model.eval()\n",
        "\n",
        "  # Tracking variables \n",
        "  eval_loss, eval_accuracy = 0, 0\n",
        "  nb_eval_steps, nb_eval_examples = 0, 0\n",
        "\n",
        "  # Evaluate data for one epoch\n",
        "  for batch in test_dataloader:\n",
        "    # Add batch to GPU\n",
        "    batch = tuple(t.to(device) for t in batch)\n",
        "    # Unpack the inputs from our dataloader\n",
        "    b_input_ids, b_input_mask, b_labels = batch\n",
        "    # Telling the model not to compute or store gradients, saving memory and speeding up validation\n",
        "    with torch.no_grad():\n",
        "      # Forward pass, calculate logit predictions\n",
        "      logits = model(b_input_ids, token_type_ids=None, attention_mask=b_input_mask)\n",
        "    \n",
        "    # Move logits and labels to CPU\n",
        "    logits = logits[0].detach().cpu().numpy()\n",
        "    label_ids = b_labels.to('cpu').numpy()\n",
        "\n",
        "    tmp_eval_accuracy = flat_accuracy(logits, label_ids)\n",
        "    \n",
        "    eval_accuracy += tmp_eval_accuracy\n",
        "    nb_eval_steps += 1\n",
        "\n",
        "  print(\"Validation Accuracy: {}\".format(eval_accuracy/nb_eval_steps))\n",
        "#torch.save(model, \"../models/BERT_model.pt\")"
      ]
    },
    {
      "cell_type": "markdown",
      "metadata": {
        "id": "THcqvY96ozMc"
      },
      "source": [
        "#### Learning curve"
      ]
    },
    {
      "cell_type": "code",
      "execution_count": null,
      "metadata": {
        "colab": {
          "base_uri": "https://localhost:8080/",
          "height": 513
        },
        "id": "kooRWr_n-Bnw",
        "outputId": "95446cb8-a806-4baa-c4f3-155c4eff8ee1"
      },
      "outputs": [
        {
          "data": {
            "image/png": "[encoded data removed]",
            "text/plain": [
              "<Figure size 1440x576 with 1 Axes>"
            ]
          },
          "metadata": {
            "needs_background": "light"
          },
          "output_type": "display_data"
        }
      ],
      "source": [
        "import matplotlib.pyplot as plt\n",
        "\n",
        "plt.figure(figsize=(20,8))\n",
        "plt.title(\"Training loss\")\n",
        "plt.xlabel(\"Batch\")\n",
        "plt.ylabel(\"Loss\")\n",
        "plt.plot(train_loss_set)\n",
        "plt.show()"
      ]
    },
    {
      "cell_type": "markdown",
      "metadata": {
        "id": "LS7xzkmjozMf"
      },
      "source": [
        "## Evaluation."
      ]
    },
    {
      "cell_type": "code",
      "execution_count": null,
      "metadata": {
        "id": "v2_8-_5lozMf",
        "outputId": "681bdc14-1dbd-4e91-f6b5-29ee8104a0a8"
      },
      "outputs": [
        {
          "name": "stdout",
          "output_type": "stream",
          "text": [
            "Processing:  0.0 %\n",
            "Processing:  1.0 %\n",
            "Processing:  2.0 %\n",
            "Processing:  3.0 %\n",
            "Processing:  4.0 %\n",
            "Processing:  5.0 %\n",
            "Processing:  6.0 %\n",
            "Processing:  7.0 %\n",
            "Processing:  8.0 %\n",
            "Processing:  9.0 %\n",
            "Processing:  10.0 %\n",
            "Processing:  11.0 %\n",
            "Processing:  12.0 %\n",
            "Processing:  13.0 %\n",
            "Processing:  14.0 %\n",
            "Processing:  15.0 %\n",
            "Processing:  16.0 %\n",
            "Processing:  17.0 %\n",
            "Processing:  18.0 %\n",
            "Processing:  19.0 %\n",
            "Processing:  20.0 %\n",
            "Processing:  21.0 %\n",
            "Processing:  22.0 %\n",
            "Processing:  23.0 %\n",
            "Processing:  24.0 %\n",
            "Processing:  25.0 %\n",
            "Processing:  26.0 %\n",
            "Processing:  27.0 %\n",
            "Processing:  28.0 %\n",
            "Processing:  29.0 %\n",
            "Processing:  30.0 %\n",
            "Processing:  31.0 %\n",
            "Processing:  32.0 %\n",
            "Processing:  33.0 %\n",
            "Processing:  34.0 %\n",
            "Processing:  35.0 %\n",
            "Processing:  36.0 %\n",
            "Processing:  37.0 %\n",
            "Processing:  38.0 %\n",
            "Processing:  39.0 %\n",
            "Processing:  40.0 %\n",
            "Processing:  41.0 %\n",
            "Processing:  42.0 %\n",
            "Processing:  43.0 %\n",
            "Processing:  44.0 %\n",
            "Processing:  45.0 %\n",
            "Processing:  46.0 %\n",
            "Processing:  47.0 %\n",
            "Processing:  48.0 %\n",
            "Processing:  49.0 %\n",
            "Processing:  50.0 %\n",
            "Processing:  51.0 %\n",
            "Processing:  52.0 %\n",
            "Processing:  53.0 %\n",
            "Processing:  54.0 %\n",
            "Processing:  55.0 %\n",
            "Processing:  56.0 %\n",
            "Processing:  57.0 %\n",
            "Processing:  58.0 %\n",
            "Processing:  59.0 %\n",
            "Processing:  60.0 %\n",
            "Processing:  61.0 %\n",
            "Processing:  62.0 %\n",
            "Processing:  63.0 %\n",
            "Processing:  64.0 %\n",
            "Processing:  65.0 %\n",
            "Processing:  66.0 %\n",
            "Processing:  67.0 %\n",
            "Processing:  68.0 %\n",
            "Processing:  69.0 %\n",
            "Processing:  70.0 %\n",
            "Processing:  71.0 %\n",
            "Processing:  72.0 %\n",
            "Processing:  73.0 %\n",
            "Processing:  74.0 %\n",
            "Processing:  75.0 %\n",
            "Processing:  76.0 %\n",
            "Processing:  77.0 %\n",
            "Processing:  78.0 %\n",
            "Processing:  79.0 %\n",
            "Processing:  80.0 %\n",
            "Processing:  81.0 %\n",
            "Processing:  82.0 %\n",
            "Processing:  83.0 %\n",
            "Processing:  84.0 %\n",
            "Processing:  85.0 %\n",
            "Processing:  86.0 %\n",
            "Processing:  87.0 %\n",
            "Processing:  88.0 %\n",
            "Processing:  89.0 %\n",
            "Processing:  90.0 %\n",
            "Processing:  91.0 %\n",
            "Processing:  92.0 %\n",
            "Processing:  93.0 %\n",
            "Processing:  94.0 %\n",
            "Processing:  95.0 %\n",
            "Processing:  96.0 %\n",
            "Processing:  97.0 %\n",
            "Processing:  98.0 %\n",
            "Processing:  99.0 %\n"
          ]
        }
      ],
      "source": [
        "torch.cuda.empty_cache()\n",
        "#model = torch.load(\"../models/BERT_model.pt\")\n",
        "model.eval()\n",
        "preds = []\n",
        "\n",
        "for i in range(int(len(test_inputs)/10)):\n",
        "    batch = (test_inputs[i*10: (i+1)*10].to(device), test_masks[i*10: (i+1)*10].to(device))\n",
        "    with torch.no_grad():\n",
        "        logits = model(batch[0], token_type_ids=None, attention_mask = batch[1])[0]\n",
        "    \n",
        "    logits = logits.detach().cpu().numpy()\n",
        "    preds.append(logits)\n",
        "    if i%100 == 0:\n",
        "        print(\"Processing: \", i*10/1000, \"%\")"
      ]
    },
    {
      "cell_type": "code",
      "execution_count": null,
      "metadata": {
        "id": "4TJVDvWvozMh"
      },
      "outputs": [],
      "source": [
        "from sklearn.metrics import classification_report\n",
        "from sklearn.metrics import accuracy_score\n",
        "predictions = []\n",
        "\n",
        "print(len(test['label']))\n",
        "for pred in preds:\n",
        "    p = np.argmax(pred, axis = 1)\n",
        "    for label in p:\n",
        "        predictions.append(label)\n",
        "print(len(predictions))\n",
        "print(classification_report(np.asarray(test[\"label\"][:len(predictions)]), predictions, digits = 4))\n",
        "print(\"Accuracy: \", accuracy_score(np.asarray(test[\"label\"][:len(predictions)]), predictions))\n"
      ]
    },
    {
      "cell_type": "markdown",
      "metadata": {
        "id": "l1rYBLkCozMi"
      },
      "source": [
        "### Metrics of the two models:\n",
        "\n",
        "Gpt-2:\n",
        "    - Accuracy: 0.85237\n",
        "    - Precision: 0.8549\n",
        "    - Recall: 0.8524\n",
        "    - F1-score: 0.8509\n",
        "\n",
        "BERT:\n",
        "    - Accuracy: 0.8437\n",
        "    - Precision: 0.8443\n",
        "    - Recall: 0.8437\n",
        "    - F1-score: 0.8439 "
      ]
    },
    {
      "cell_type": "markdown",
      "metadata": {
        "id": "uo8XxzZjozMj"
      },
      "source": [
        "If yopu want to save the fine-tuned model on bot detection task, you can do it with:"
      ]
    },
    {
      "cell_type": "code",
      "execution_count": null,
      "metadata": {
        "id": "c6qFk-HrozMj"
      },
      "outputs": [],
      "source": [
        "torch.save(model, \"../models/GPT2_model.pt\")"
      ]
    }
  ],
  "metadata": {
    "accelerator": "GPU",
    "colab": {
      "collapsed_sections": [],
      "name": "twitter_bot_detection.ipnyb",
      "provenance": []
    },
    "kernelspec": {
      "display_name": "bots",
      "language": "python",
      "name": "bots"
    },
    "language_info": {
      "codemirror_mode": {
        "name": "ipython",
        "version": 3
      },
      "file_extension": ".py",
      "mimetype": "text/x-python",
      "name": "python",
      "nbconvert_exporter": "python",
      "pygments_lexer": "ipython3",
      "version": "3.8.3"
    }
  },
  "nbformat": 4,
  "nbformat_minor": 0
}